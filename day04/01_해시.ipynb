{
 "cells": [
  {
   "cell_type": "markdown",
   "id": "d9fd60d5",
   "metadata": {},
   "source": [
    "## 해시\n",
    "\n",
    "### 몸풀기 문제\n",
    "\n",
    "#### 두 개의 수로 특정값 만들기\n",
    "\n",
    "- 양의 정수 리스트 arr, 정수 target. 이중 합이 `arget인 두 수가 arr에 있는지 확인  \n",
    "- 있으면 True, 없으면 False\n",
    "\n",
    "##### 입력 출력 예\n",
    "\n",
    "| arr | target | return |\n",
    "|:--:|:--:|:--:|\n",
    "| [1,2,3,4,8] | 6 | True |\n",
    "| [2,3,5,9] | 10 | False |\n",
    "\n",
    "---\n",
    "\n",
    "- 이중 for문으로 풀면 문제는 해결 가능. 시간복잡도 $O(n^2)$. 최대 개수 10,000개로 1억번 연산 필요  \n",
    "-  해시로 처리\n"
   ]
  },
  {
   "cell_type": "code",
   "execution_count": 5,
   "id": "fe38c530",
   "metadata": {},
   "outputs": [],
   "source": [
    "# 구현\n",
    "def solution(arr, target):\n",
    "    hash = [0] * (target + 1)   # 해시테이블 초기화, 타겟보다 큰 수는 필요없으므로 제거\n",
    "\n",
    "    for num in arr:\n",
    "        if num <= target:       # 타겟보다 큰수는 필요없음\n",
    "            hash[num] = 1\n",
    "\n",
    "    for num in arr:\n",
    "        if num >= target:   # target보다 큰수는 답이 안됨\n",
    "            continue\n",
    "\n",
    "        if ((target - num) == num): # arr 중복된 원소는 존재하지 않음\n",
    "            continue\n",
    "\n",
    "        if hash[target - num]:\n",
    "            return True\n",
    "\n",
    "    return False\n"
   ]
  },
  {
   "cell_type": "code",
   "execution_count": 6,
   "id": "2fdd7a48",
   "metadata": {},
   "outputs": [
    {
     "data": {
      "text/plain": [
       "True"
      ]
     },
     "execution_count": 6,
     "metadata": {},
     "output_type": "execute_result"
    }
   ],
   "source": [
    "solution([1,2,3,4,8], 6)    # 8은 필요없음"
   ]
  },
  {
   "cell_type": "code",
   "execution_count": 7,
   "id": "e86ebaaf",
   "metadata": {},
   "outputs": [
    {
     "data": {
      "text/plain": [
       "False"
      ]
     },
     "execution_count": 7,
     "metadata": {},
     "output_type": "execute_result"
    }
   ],
   "source": [
    "solution([2,3,5,9], 10)"
   ]
  },
  {
   "cell_type": "markdown",
   "id": "13a2afcc",
   "metadata": {},
   "source": [
    "### 모의 테스트\n",
    "\n",
    "#### 완주하지 못한 선수\n",
    "- https://school.programmers.co.kr/learn/courses/30/lessons/42576"
   ]
  },
  {
   "cell_type": "code",
   "execution_count": null,
   "id": "374882ff",
   "metadata": {},
   "outputs": [],
   "source": [
    "# 구현\n",
    "# 구현\n",
    "def solution(participant, completion):\n",
    "    answer = ''\n",
    "\n",
    "    for comp in completion:\n",
    "        for part in participant:\n",
    "            print(comp, part)\n",
    "            if comp == part:\n",
    "                participant.remove(comp)\n",
    "    answer = participant[0]\n",
    "    return answer"
   ]
  },
  {
   "cell_type": "code",
   "execution_count": null,
   "id": "4a9ff6a0",
   "metadata": {},
   "outputs": [],
   "source": [
    "solution([\"marina\", \"josipa\", \"nikola\", \"vinko\", \"filipa\"], \n",
    "         [\"josipa\", \"filipa\", \"marina\", \"nikola\"])"
   ]
  }
 ],
 "metadata": {
  "kernelspec": {
   "display_name": "3.11.9",
   "language": "python",
   "name": "python3"
  },
  "language_info": {
   "codemirror_mode": {
    "name": "ipython",
    "version": 3
   },
   "file_extension": ".py",
   "mimetype": "text/x-python",
   "name": "python",
   "nbconvert_exporter": "python",
   "pygments_lexer": "ipython3",
   "version": "3.11.9"
  }
 },
 "nbformat": 4,
 "nbformat_minor": 5
}

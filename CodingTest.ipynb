{
 "cells": [
  {
   "cell_type": "markdown",
   "id": "5863d574",
   "metadata": {},
   "source": [
    "## 시소 짝꿍"
   ]
  },
  {
   "cell_type": "markdown",
   "id": "a95ff96c",
   "metadata": {},
   "source": [
    "- 어느 공원 놀이터에는 시소가 하나 설치되어 있습니다. 이 시소는 중심으로부터 2(m), 3(m), 4(m) 거리의 지점에 좌석이 하나씩 있습니다.\n",
    "이 시소를 두 명이 마주 보고 탄다고 할 때, 시소가 평형인 상태에서 각각에 의해 시소에 걸리는 토크의 크기가 서로 상쇄되어 완전한 균형을 이룰 수 있다면 그 두 사람을 시소 짝꿍이라고 합니다. 즉, 탑승한 사람의 무게와 시소 축과 좌석 간의 거리의 곱이 양쪽 다 같다면 시소 짝꿍이라고 할 수 있습니다.\n",
    "사람들의 몸무게 목록 weights이 주어질 때, 시소 짝꿍이 몇 쌍 존재하는지 구하여 return 하도록 solution 함수를 완성해주세요."
   ]
  },
  {
   "cell_type": "markdown",
   "id": "a704794f",
   "metadata": {},
   "source": [
    "제한 사항\n",
    "1. 2 ≤ weights의 길이 ≤ 100,000\n",
    "2. 100 ≤ weights[i] ≤ 1,000\n",
    "3. 몸무게 단위는 N(뉴턴)으로 주어집니다.\n",
    "4. 몸무게는 모두 정수입니다."
   ]
  },
  {
   "cell_type": "markdown",
   "id": "9f03e7d0",
   "metadata": {},
   "source": [
    "- 입출력 예\n",
    "\n",
    "| weights | result |\n",
    "|:--:|:--:|\n",
    "| [100, 180, 360, 100, 270] | 4 |"
   ]
  },
  {
   "cell_type": "markdown",
   "id": "b115ebaa",
   "metadata": {},
   "source": [
    "- 입출력 예 설명\n",
    "1. {100, 100} 은 서로 같은 거리에 마주보고 앉으면 균형을 이룹니다.\n",
    "2. {180, 360} 은 각각 4(m), 2(m) 거리에 마주보고 앉으면 균형을 이룹니다.\n",
    "3. {180, 270} 은 각각 3(m), 2(m) 거리에 마주보고 앉으면 균형을 이룹니다.\n",
    "4. {270, 360} 은 각각 4(m), 3(m) 거리에 마주보고 앉으면 균형을 이룹니다."
   ]
  },
  {
   "cell_type": "code",
   "execution_count": null,
   "id": "f8aa690b",
   "metadata": {},
   "outputs": [],
   "source": [
    "from collections import Counter\n",
    "def solution(weights):\n",
    "    answer = 0\n",
    "    counter = Counter(weights)\n",
    "\n",
    "    for i in range(100, 1001):\n",
    "        if counter[i] > 0:\n",
    "            answer += (counter[i] * (counter[i]-1))/2\n",
    "            answer += counter[i] * counter[i * 3 / 2]\n",
    "            answer += counter[i] * counter[i * 2]\n",
    "            answer += counter[i] * counter[i * 4 / 3] \n",
    "\n",
    "    return answer"
   ]
  },
  {
   "cell_type": "code",
   "execution_count": null,
   "id": "c78e441e",
   "metadata": {},
   "outputs": [],
   "source": [
    "solution([100,180,360,100,270])"
   ]
  }
 ],
 "metadata": {
  "kernelspec": {
   "display_name": "3.11.9",
   "language": "python",
   "name": "python3"
  },
  "language_info": {
   "codemirror_mode": {
    "name": "ipython",
    "version": 3
   },
   "file_extension": ".py",
   "mimetype": "text/x-python",
   "name": "python",
   "nbconvert_exporter": "python",
   "pygments_lexer": "ipython3",
   "version": "3.11.9"
  }
 },
 "nbformat": 4,
 "nbformat_minor": 5
}

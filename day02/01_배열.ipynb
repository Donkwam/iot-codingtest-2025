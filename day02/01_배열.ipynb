{
 "cells": [
  {
   "cell_type": "markdown",
   "id": "2b1530b0",
   "metadata": {},
   "source": [
    "## 배열\n",
    "\n",
    "### 배열 선언\n",
    "\n",
    "#### 일반적 배열 선언 "
   ]
  },
  {
   "cell_type": "code",
   "execution_count": 1,
   "id": "7b0c9c4f",
   "metadata": {},
   "outputs": [
    {
     "data": {
      "text/plain": [
       "[0, 0, 0, 0, 0, 0]"
      ]
     },
     "execution_count": 1,
     "metadata": {},
     "output_type": "execute_result"
    }
   ],
   "source": [
    "arr1 = [0, 0, 0, 0, 0, 0]\n",
    "arr1"
   ]
  },
  {
   "cell_type": "code",
   "execution_count": 2,
   "id": "58f52851",
   "metadata": {},
   "outputs": [
    {
     "data": {
      "text/plain": [
       "[0, 0, 0, 0, 0, 0]"
      ]
     },
     "execution_count": 2,
     "metadata": {},
     "output_type": "execute_result"
    }
   ],
   "source": [
    "arr2 = [0] *6\n",
    "arr2"
   ]
  },
  {
   "cell_type": "markdown",
   "id": "250c34e2",
   "metadata": {},
   "source": [
    "#### 리스트 생성자 생성"
   ]
  },
  {
   "cell_type": "code",
   "execution_count": 4,
   "id": "8495b549",
   "metadata": {},
   "outputs": [],
   "source": [
    "import time\n",
    "\n",
    "def bubble_sort(arr):      # 버블소트\n",
    "    n = len(arr)\n",
    "\n",
    "    for i in range(n):     # 한번돌고나면 맨처음 요소는 뛰어넘고 정렬 계속\n",
    "        for j in range(n - i - 1):\n",
    "            if arr[j] > arr[j + 1]:\n",
    "                arr[j], arr[j + 1] = arr[j + 1], arr[j]   # 파이썬에서 temp를 만들지 않고 swap가능한 방법\n",
    "\n",
    "    return arr\n",
    "\n",
    "\n",
    "def do_sort(arr):         # sort() 사용\n",
    "    arr.sort()\n",
    "    return arr\n",
    "\n",
    "\n",
    "def measure_time(func, arr):    # 시간측정 함수\n",
    "    start_time = time.time()    # 시작시간 저장\n",
    "    result = func(arr)          # 함수실행\n",
    "    end_time = time.time()      # 함수 종료시간 저장\n",
    "\n",
    "    return end_time - start_time\n",
    "\n",
    "arr = list(range(10000))\n"
   ]
  }
 ],
 "metadata": {
  "kernelspec": {
   "display_name": "3.11.9",
   "language": "python",
   "name": "python3"
  },
  "language_info": {
   "codemirror_mode": {
    "name": "ipython",
    "version": 3
   },
   "file_extension": ".py",
   "mimetype": "text/x-python",
   "name": "python",
   "nbconvert_exporter": "python",
   "pygments_lexer": "ipython3",
   "version": "3.11.9"
  }
 },
 "nbformat": 4,
 "nbformat_minor": 5
}
